{
 "cells": [
  {
   "cell_type": "code",
   "execution_count": 79,
   "metadata": {},
   "outputs": [],
   "source": [
    "import os\n",
    "import numpy as np\n",
    "import pandas as pd\n",
    "import tensorflow as tf\n",
    "from tensorflow.keras.preprocessing.image import load_img, img_to_array\n",
    "from tensorflow.keras.preprocessing.image import ImageDataGenerator\n",
    "from tensorflow.keras.applications import MobileNetV2\n",
    "from tensorflow.keras.models import Model, Sequential\n",
    "from tensorflow.keras.layers import Dense, Dropout, GlobalAveragePooling2D\n",
    "from sklearn.model_selection import train_test_split\n",
    "import matplotlib.pyplot as plt"
   ]
  },
  {
   "cell_type": "code",
   "execution_count": 112,
   "metadata": {},
   "outputs": [
    {
     "name": "stderr",
     "output_type": "stream",
     "text": [
      "<>:2: SyntaxWarning: invalid escape sequence '\\M'\n",
      "<>:3: SyntaxWarning: invalid escape sequence '\\M'\n",
      "<>:4: SyntaxWarning: invalid escape sequence '\\M'\n",
      "<>:6: SyntaxWarning: invalid escape sequence '\\M'\n",
      "<>:2: SyntaxWarning: invalid escape sequence '\\M'\n",
      "<>:3: SyntaxWarning: invalid escape sequence '\\M'\n",
      "<>:4: SyntaxWarning: invalid escape sequence '\\M'\n",
      "<>:6: SyntaxWarning: invalid escape sequence '\\M'\n",
      "C:\\Users\\Nayan Keote\\AppData\\Local\\Temp\\ipykernel_19244\\1794718538.py:2: SyntaxWarning: invalid escape sequence '\\M'\n",
      "  os.path.join(\"D:\\ML model\\HAM10000_images_part_1\"),\n",
      "C:\\Users\\Nayan Keote\\AppData\\Local\\Temp\\ipykernel_19244\\1794718538.py:3: SyntaxWarning: invalid escape sequence '\\M'\n",
      "  os.path.join( \"D:\\ML model\\HAM10000_images_part_2\"),\n",
      "C:\\Users\\Nayan Keote\\AppData\\Local\\Temp\\ipykernel_19244\\1794718538.py:4: SyntaxWarning: invalid escape sequence '\\M'\n",
      "  os.path.join( \"D:\\ML model\\HAM10000_segmentations_lesion_tschandl\"),\n",
      "C:\\Users\\Nayan Keote\\AppData\\Local\\Temp\\ipykernel_19244\\1794718538.py:6: SyntaxWarning: invalid escape sequence '\\M'\n",
      "  CSV_FILE = os.path.join(\"D:\\ML model\\HAM10000_metadata\")\n"
     ]
    }
   ],
   "source": [
    "IMAGE_FOLDERS = [\n",
    "    os.path.join(\"D:\\ML model\\HAM10000_images_part_1\"), \n",
    "    os.path.join( \"D:\\ML model\\HAM10000_images_part_2\"), \n",
    "    os.path.join( \"D:\\ML model\\HAM10000_segmentations_lesion_tschandl\"),\n",
    "]\n",
    "CSV_FILE = os.path.join(\"D:\\ML model\\HAM10000_metadata\")"
   ]
  },
  {
   "cell_type": "code",
   "execution_count": 105,
   "metadata": {},
   "outputs": [
    {
     "data": {
      "text/plain": [
       "['D:\\\\ML model\\\\HAM10000_images_part_1',\n",
       " 'D:\\\\ML model\\\\HAM10000_images_part_2',\n",
       " 'D:\\\\ML model\\\\HAM10000_segmentations_lesion_tschandl',\n",
       " 'D:\\\\ML model\\\\ISIC2018_Task3_Test_Images\\\\ISIC2018_Task3_Test_Images']"
      ]
     },
     "execution_count": 105,
     "metadata": {},
     "output_type": "execute_result"
    }
   ],
   "source": [
    "IMAGE_FOLDERS"
   ]
  },
  {
   "cell_type": "code",
   "execution_count": 113,
   "metadata": {},
   "outputs": [],
   "source": [
    "# 2️⃣ Load Labels\n",
    "df = pd.read_csv(CSV_FILE)\n",
    "df = df[[\"image_id\", \"dx\"]]\n"
   ]
  },
  {
   "cell_type": "code",
   "execution_count": 114,
   "metadata": {},
   "outputs": [],
   "source": [
    "benign_classes = [\"bkl\", \"df\", \"nv\", \"vasc\"]\n",
    "df[\"label\"] = df[\"dx\"].apply(lambda x: 0 if x in benign_classes else 1)"
   ]
  },
  {
   "cell_type": "code",
   "execution_count": 115,
   "metadata": {},
   "outputs": [],
   "source": [
    "image_size = (128, 128)  # Resize images\n",
    "X, y = [], []"
   ]
  },
  {
   "cell_type": "code",
   "execution_count": 116,
   "metadata": {},
   "outputs": [
    {
     "name": "stdout",
     "output_type": "stream",
     "text": [
      "📂 Processing folder D:\\ML model\\HAM10000_images_part_1...\n",
      "📂 Processing folder D:\\ML model\\HAM10000_images_part_2...\n",
      "📂 Processing folder D:\\ML model\\HAM10000_segmentations_lesion_tschandl...\n"
     ]
    }
   ],
   "source": [
    "for folder in IMAGE_FOLDERS:\n",
    "    print(f\"📂 Processing folder {folder}...\")\n",
    "    if not os.path.exists(folder):  \n",
    "        print(f\"⚠️ Warning: Folder {folder} not found. Skipping...\")\n",
    "        continue  # Skip missing folders\n",
    "\n",
    "    for filename in os.listdir(folder):\n",
    "        img_path = os.path.join(folder, filename)\n",
    "        if filename.lower().endswith((\".jpg\", \".jpeg\", \".png\")):\n",
    "            img_id = os.path.splitext(filename)[0]  # Remove extension\n",
    "            if img_id in df[\"image_id\"].values:  # Match CSV\n",
    "                try:\n",
    "                    label = df[df[\"image_id\"] == img_id][\"label\"].values[0]\n",
    "                    img = load_img(img_path, target_size=image_size)\n",
    "                    img_array = img_to_array(img) / 255.0  # Normalize\n",
    "                    X.append(img_array)\n",
    "                    y.append(label)\n",
    "                except Exception as e:\n",
    "                    print(f\"❌ Error loading {img_path}: {e}\")"
   ]
  },
  {
   "cell_type": "code",
   "execution_count": 117,
   "metadata": {},
   "outputs": [
    {
     "name": "stdout",
     "output_type": "stream",
     "text": [
      "✅ Total images loaded: 10015\n",
      "✅ Total labels loaded: 10015\n"
     ]
    }
   ],
   "source": [
    "X = np.array(X)\n",
    "y = np.array(y)\n",
    "print(f\"✅ Total images loaded: {len(X)}\")\n",
    "print(f\"✅ Total labels loaded: {len(y)}\")"
   ]
  },
  {
   "cell_type": "code",
   "execution_count": 118,
   "metadata": {},
   "outputs": [],
   "source": [
    "X_train, X_val, y_train, y_val = train_test_split(X, y, test_size=0.2, random_state=42, stratify=y)\n",
    "\n",
    "# 5️⃣ Data Augmentation\n",
    "datagen = ImageDataGenerator(\n",
    "    rotation_range=20,\n",
    "    width_shift_range=0.2,\n",
    "    height_shift_range=0.2,\n",
    "    shear_range=0.2,\n",
    "    zoom_range=0.2,\n",
    "    horizontal_flip=True\n",
    ")\n",
    "datagen.fit(X_train)"
   ]
  },
  {
   "cell_type": "code",
   "execution_count": 119,
   "metadata": {},
   "outputs": [],
   "source": [
    "# 4️⃣ Train-Test Split\n",
    "X_train, X_val, y_train, y_val = train_test_split(X, y, test_size=0.2, random_state=42, stratify=y)\n"
   ]
  },
  {
   "cell_type": "code",
   "execution_count": 120,
   "metadata": {},
   "outputs": [],
   "source": [
    "# 6️⃣ Load Pre-Trained MobileNetV2 Model\n",
    "base_model = MobileNetV2(weights=\"imagenet\", include_top=False, input_shape=(128, 128, 3))\n",
    "base_model.trainable = False  # Freeze pre-trained layers\n",
    "\n",
    "# 7️⃣ Add Custom Layers\n",
    "x = GlobalAveragePooling2D()(base_model.output)\n",
    "x = Dense(128, activation='relu')(x)\n",
    "x = Dropout(0.5)(x)\n",
    "output_layer = Dense(1, activation='sigmoid')(x)  # Binary classification\n",
    "\n",
    "model = Model(inputs=base_model.input, outputs=output_layer)\n",
    "\n",
    "model.compile(optimizer=\"adam\", loss=\"binary_crossentropy\", metrics=[\"accuracy\"])"
   ]
  },
  {
   "cell_type": "code",
   "execution_count": 121,
   "metadata": {},
   "outputs": [
    {
     "name": "stderr",
     "output_type": "stream",
     "text": [
      "c:\\Users\\Nayan Keote\\AppData\\Local\\Programs\\Python\\Python312\\Lib\\site-packages\\keras\\src\\trainers\\data_adapters\\py_dataset_adapter.py:121: UserWarning: Your `PyDataset` class should call `super().__init__(**kwargs)` in its constructor. `**kwargs` can include `workers`, `use_multiprocessing`, `max_queue_size`. Do not pass these arguments to `fit()`, as they will be ignored.\n",
      "  self._warn_if_super_not_called()\n"
     ]
    },
    {
     "name": "stdout",
     "output_type": "stream",
     "text": [
      "Epoch 1/30\n",
      "\u001b[1m251/251\u001b[0m \u001b[32m━━━━━━━━━━━━━━━━━━━━\u001b[0m\u001b[37m\u001b[0m \u001b[1m63s\u001b[0m 233ms/step - accuracy: 0.7986 - loss: 0.4969 - val_accuracy: 0.8283 - val_loss: 0.3730\n",
      "Epoch 2/30\n",
      "\u001b[1m251/251\u001b[0m \u001b[32m━━━━━━━━━━━━━━━━━━━━\u001b[0m\u001b[37m\u001b[0m \u001b[1m57s\u001b[0m 229ms/step - accuracy: 0.8195 - loss: 0.3736 - val_accuracy: 0.8223 - val_loss: 0.3691\n",
      "Epoch 3/30\n",
      "\u001b[1m251/251\u001b[0m \u001b[32m━━━━━━━━━━━━━━━━━━━━\u001b[0m\u001b[37m\u001b[0m \u001b[1m56s\u001b[0m 222ms/step - accuracy: 0.8280 - loss: 0.3683 - val_accuracy: 0.8367 - val_loss: 0.3543\n",
      "Epoch 4/30\n",
      "\u001b[1m251/251\u001b[0m \u001b[32m━━━━━━━━━━━━━━━━━━━━\u001b[0m\u001b[37m\u001b[0m \u001b[1m57s\u001b[0m 226ms/step - accuracy: 0.8332 - loss: 0.3587 - val_accuracy: 0.8288 - val_loss: 0.3836\n",
      "Epoch 5/30\n",
      "\u001b[1m251/251\u001b[0m \u001b[32m━━━━━━━━━━━━━━━━━━━━\u001b[0m\u001b[37m\u001b[0m \u001b[1m55s\u001b[0m 220ms/step - accuracy: 0.8338 - loss: 0.3636 - val_accuracy: 0.8372 - val_loss: 0.3511\n",
      "Epoch 6/30\n",
      "\u001b[1m251/251\u001b[0m \u001b[32m━━━━━━━━━━━━━━━━━━━━\u001b[0m\u001b[37m\u001b[0m \u001b[1m50s\u001b[0m 201ms/step - accuracy: 0.8368 - loss: 0.3486 - val_accuracy: 0.8362 - val_loss: 0.3552\n",
      "Epoch 7/30\n",
      "\u001b[1m251/251\u001b[0m \u001b[32m━━━━━━━━━━━━━━━━━━━━\u001b[0m\u001b[37m\u001b[0m \u001b[1m51s\u001b[0m 202ms/step - accuracy: 0.8373 - loss: 0.3507 - val_accuracy: 0.8422 - val_loss: 0.3502\n",
      "Epoch 8/30\n",
      "\u001b[1m251/251\u001b[0m \u001b[32m━━━━━━━━━━━━━━━━━━━━\u001b[0m\u001b[37m\u001b[0m \u001b[1m51s\u001b[0m 202ms/step - accuracy: 0.8465 - loss: 0.3333 - val_accuracy: 0.8323 - val_loss: 0.3593\n",
      "Epoch 9/30\n",
      "\u001b[1m251/251\u001b[0m \u001b[32m━━━━━━━━━━━━━━━━━━━━\u001b[0m\u001b[37m\u001b[0m \u001b[1m52s\u001b[0m 207ms/step - accuracy: 0.8406 - loss: 0.3453 - val_accuracy: 0.8397 - val_loss: 0.3574\n",
      "Epoch 10/30\n",
      "\u001b[1m251/251\u001b[0m \u001b[32m━━━━━━━━━━━━━━━━━━━━\u001b[0m\u001b[37m\u001b[0m \u001b[1m51s\u001b[0m 201ms/step - accuracy: 0.8479 - loss: 0.3355 - val_accuracy: 0.8352 - val_loss: 0.3596\n",
      "Epoch 11/30\n",
      "\u001b[1m251/251\u001b[0m \u001b[32m━━━━━━━━━━━━━━━━━━━━\u001b[0m\u001b[37m\u001b[0m \u001b[1m51s\u001b[0m 202ms/step - accuracy: 0.8474 - loss: 0.3221 - val_accuracy: 0.8362 - val_loss: 0.3553\n",
      "Epoch 12/30\n",
      "\u001b[1m251/251\u001b[0m \u001b[32m━━━━━━━━━━━━━━━━━━━━\u001b[0m\u001b[37m\u001b[0m \u001b[1m51s\u001b[0m 202ms/step - accuracy: 0.8431 - loss: 0.3416 - val_accuracy: 0.8328 - val_loss: 0.3537\n",
      "Epoch 13/30\n",
      "\u001b[1m251/251\u001b[0m \u001b[32m━━━━━━━━━━━━━━━━━━━━\u001b[0m\u001b[37m\u001b[0m \u001b[1m2519s\u001b[0m 10s/step - accuracy: 0.8442 - loss: 0.3369 - val_accuracy: 0.8387 - val_loss: 0.3510\n",
      "Epoch 14/30\n",
      "\u001b[1m251/251\u001b[0m \u001b[32m━━━━━━━━━━━━━━━━━━━━\u001b[0m\u001b[37m\u001b[0m \u001b[1m39s\u001b[0m 155ms/step - accuracy: 0.8465 - loss: 0.3275 - val_accuracy: 0.8422 - val_loss: 0.3529\n",
      "Epoch 15/30\n",
      "\u001b[1m251/251\u001b[0m \u001b[32m━━━━━━━━━━━━━━━━━━━━\u001b[0m\u001b[37m\u001b[0m \u001b[1m40s\u001b[0m 158ms/step - accuracy: 0.8510 - loss: 0.3270 - val_accuracy: 0.8377 - val_loss: 0.3641\n",
      "Epoch 16/30\n",
      "\u001b[1m251/251\u001b[0m \u001b[32m━━━━━━━━━━━━━━━━━━━━\u001b[0m\u001b[37m\u001b[0m \u001b[1m56s\u001b[0m 221ms/step - accuracy: 0.8480 - loss: 0.3310 - val_accuracy: 0.8392 - val_loss: 0.3647\n",
      "Epoch 17/30\n",
      "\u001b[1m251/251\u001b[0m \u001b[32m━━━━━━━━━━━━━━━━━━━━\u001b[0m\u001b[37m\u001b[0m \u001b[1m55s\u001b[0m 221ms/step - accuracy: 0.8416 - loss: 0.3412 - val_accuracy: 0.8397 - val_loss: 0.3516\n",
      "Epoch 18/30\n",
      "\u001b[1m251/251\u001b[0m \u001b[32m━━━━━━━━━━━━━━━━━━━━\u001b[0m\u001b[37m\u001b[0m \u001b[1m56s\u001b[0m 224ms/step - accuracy: 0.8583 - loss: 0.3155 - val_accuracy: 0.8377 - val_loss: 0.3543\n",
      "Epoch 19/30\n",
      "\u001b[1m251/251\u001b[0m \u001b[32m━━━━━━━━━━━━━━━━━━━━\u001b[0m\u001b[37m\u001b[0m \u001b[1m56s\u001b[0m 222ms/step - accuracy: 0.8504 - loss: 0.3247 - val_accuracy: 0.8328 - val_loss: 0.3680\n",
      "Epoch 20/30\n",
      "\u001b[1m251/251\u001b[0m \u001b[32m━━━━━━━━━━━━━━━━━━━━\u001b[0m\u001b[37m\u001b[0m \u001b[1m49s\u001b[0m 197ms/step - accuracy: 0.8606 - loss: 0.3101 - val_accuracy: 0.8342 - val_loss: 0.3543\n",
      "Epoch 21/30\n",
      "\u001b[1m251/251\u001b[0m \u001b[32m━━━━━━━━━━━━━━━━━━━━\u001b[0m\u001b[37m\u001b[0m \u001b[1m53s\u001b[0m 212ms/step - accuracy: 0.8481 - loss: 0.3272 - val_accuracy: 0.8457 - val_loss: 0.3442\n",
      "Epoch 22/30\n",
      "\u001b[1m251/251\u001b[0m \u001b[32m━━━━━━━━━━━━━━━━━━━━\u001b[0m\u001b[37m\u001b[0m \u001b[1m55s\u001b[0m 217ms/step - accuracy: 0.8530 - loss: 0.3221 - val_accuracy: 0.8367 - val_loss: 0.3520\n",
      "Epoch 23/30\n",
      "\u001b[1m251/251\u001b[0m \u001b[32m━━━━━━━━━━━━━━━━━━━━\u001b[0m\u001b[37m\u001b[0m \u001b[1m53s\u001b[0m 212ms/step - accuracy: 0.8588 - loss: 0.3143 - val_accuracy: 0.8342 - val_loss: 0.3569\n",
      "Epoch 24/30\n",
      "\u001b[1m251/251\u001b[0m \u001b[32m━━━━━━━━━━━━━━━━━━━━\u001b[0m\u001b[37m\u001b[0m \u001b[1m38s\u001b[0m 152ms/step - accuracy: 0.8626 - loss: 0.3073 - val_accuracy: 0.8422 - val_loss: 0.3535\n",
      "Epoch 25/30\n",
      "\u001b[1m251/251\u001b[0m \u001b[32m━━━━━━━━━━━━━━━━━━━━\u001b[0m\u001b[37m\u001b[0m \u001b[1m35s\u001b[0m 139ms/step - accuracy: 0.8520 - loss: 0.3116 - val_accuracy: 0.8337 - val_loss: 0.3571\n",
      "Epoch 26/30\n",
      "\u001b[1m251/251\u001b[0m \u001b[32m━━━━━━━━━━━━━━━━━━━━\u001b[0m\u001b[37m\u001b[0m \u001b[1m37s\u001b[0m 146ms/step - accuracy: 0.8521 - loss: 0.3178 - val_accuracy: 0.8333 - val_loss: 0.3591\n",
      "Epoch 27/30\n",
      "\u001b[1m251/251\u001b[0m \u001b[32m━━━━━━━━━━━━━━━━━━━━\u001b[0m\u001b[37m\u001b[0m \u001b[1m37s\u001b[0m 146ms/step - accuracy: 0.8555 - loss: 0.3221 - val_accuracy: 0.8367 - val_loss: 0.3716\n",
      "Epoch 28/30\n",
      "\u001b[1m251/251\u001b[0m \u001b[32m━━━━━━━━━━━━━━━━━━━━\u001b[0m\u001b[37m\u001b[0m \u001b[1m38s\u001b[0m 151ms/step - accuracy: 0.8526 - loss: 0.3158 - val_accuracy: 0.8313 - val_loss: 0.3720\n",
      "Epoch 29/30\n",
      "\u001b[1m251/251\u001b[0m \u001b[32m━━━━━━━━━━━━━━━━━━━━\u001b[0m\u001b[37m\u001b[0m \u001b[1m51s\u001b[0m 203ms/step - accuracy: 0.8590 - loss: 0.3095 - val_accuracy: 0.8387 - val_loss: 0.3591\n",
      "Epoch 30/30\n",
      "\u001b[1m251/251\u001b[0m \u001b[32m━━━━━━━━━━━━━━━━━━━━\u001b[0m\u001b[37m\u001b[0m \u001b[1m52s\u001b[0m 207ms/step - accuracy: 0.8583 - loss: 0.3029 - val_accuracy: 0.8342 - val_loss: 0.3739\n"
     ]
    }
   ],
   "source": [
    "history = model.fit(datagen.flow(X_train, y_train, batch_size=32), \n",
    "                    validation_data=(X_val, y_val), \n",
    "                    epochs=30)"
   ]
  },
  {
   "cell_type": "code",
   "execution_count": 123,
   "metadata": {},
   "outputs": [
    {
     "name": "stderr",
     "output_type": "stream",
     "text": [
      "WARNING:absl:You are saving your model as an HDF5 file via `model.save()` or `keras.saving.save_model(model)`. This file format is considered legacy. We recommend using instead the native Keras format, e.g. `model.save('my_model.keras')` or `keras.saving.save_model(model, 'my_model.keras')`. \n"
     ]
    }
   ],
   "source": [
    "# 9️⃣ Save Model\n",
    "model.save(os.path.join(\"skin_cancer_mobilenetv2.h5\"))"
   ]
  },
  {
   "cell_type": "code",
   "execution_count": 124,
   "metadata": {},
   "outputs": [
    {
     "data": {
      "image/png": "[encoded data removed]",
      "text/plain": [
       "<Figure size 640x480 with 1 Axes>"
      ]
     },
     "metadata": {},
     "output_type": "display_data"
    }
   ],
   "source": [
    "# 🔟 Plot Training History\n",
    "plt.plot(history.history['accuracy'], label='Train Accuracy')\n",
    "plt.plot(history.history['val_accuracy'], label='Validation Accuracy')\n",
    "plt.legend()\n",
    "plt.show()"
   ]
  },
  {
   "cell_type": "code",
   "execution_count": null,
   "metadata": {},
   "outputs": [
    {
     "name": "stderr",
     "output_type": "stream",
     "text": [
      "C:\\Users\\Nayan Keote\\AppData\\Local\\Temp\\ipykernel_1908\\2975219526.py:27: FutureWarning: A value is trying to be set on a copy of a DataFrame or Series through chained assignment using an inplace method.\n",
      "The behavior will change in pandas 3.0. This inplace method will never work because the intermediate object on which we are setting values always behaves as a copy.\n",
      "\n",
      "For example, when doing 'df[col].method(value, inplace=True)', try using 'df.method({col: value}, inplace=True)' or df[col] = df[col].method(value) instead, to perform the operation inplace on the original object.\n",
      "\n",
      "\n",
      "  df[\"age\"].fillna(df[\"age\"].median(), inplace=True)\n"
     ]
    },
    {
     "name": "stdout",
     "output_type": "stream",
     "text": [
      "📂 Processing folder D:\\ML model\\HAM10000_images_part_1...\n",
      "📂 Processing folder D:\\ML model\\HAM10000_images_part_2...\n",
      "✅ Total images loaded: 10015\n",
      "✅ Total metadata entries loaded: 10015\n"
     ]
    },
    {
     "name": "stderr",
     "output_type": "stream",
     "text": [
      "C:\\Users\\Nayan Keote\\AppData\\Local\\Temp\\ipykernel_1908\\2975219526.py:95: UserWarning: `input_shape` is undefined or non-square, or `rows` is not in [96, 128, 160, 192, 224]. Weights for input shape (224, 224) will be loaded as the default.\n",
      "  base_model = MobileNetV2(weights=\"imagenet\", include_top=False, input_tensor=image_input)\n"
     ]
    },
    {
     "name": "stdout",
     "output_type": "stream",
     "text": [
      "Epoch 1/50\n",
      "\u001b[1m251/251\u001b[0m \u001b[32m━━━━━━━━━━━━━━━━━━━━\u001b[0m\u001b[37m\u001b[0m \u001b[1m34s\u001b[0m 106ms/step - accuracy: 0.7501 - loss: 0.5899 - val_accuracy: 0.8198 - val_loss: 0.4240 - learning_rate: 1.0000e-04\n",
      "Epoch 2/50\n",
      "\u001b[1m251/251\u001b[0m \u001b[32m━━━━━━━━━━━━━━━━━━━━\u001b[0m\u001b[37m\u001b[0m \u001b[1m25s\u001b[0m 100ms/step - accuracy: 0.8121 - loss: 0.4367 - val_accuracy: 0.8278 - val_loss: 0.4048 - learning_rate: 1.0000e-04\n",
      "Epoch 3/50\n",
      "\u001b[1m251/251\u001b[0m \u001b[32m━━━━━━━━━━━━━━━━━━━━\u001b[0m\u001b[37m\u001b[0m \u001b[1m24s\u001b[0m 97ms/step - accuracy: 0.8236 - loss: 0.4069 - val_accuracy: 0.8273 - val_loss: 0.3911 - learning_rate: 1.0000e-04\n",
      "Epoch 4/50\n",
      "\u001b[1m251/251\u001b[0m \u001b[32m━━━━━━━━━━━━━━━━━━━━\u001b[0m\u001b[37m\u001b[0m \u001b[1m25s\u001b[0m 98ms/step - accuracy: 0.8335 - loss: 0.3816 - val_accuracy: 0.8333 - val_loss: 0.3848 - learning_rate: 1.0000e-04\n",
      "Epoch 5/50\n",
      "\u001b[1m251/251\u001b[0m \u001b[32m━━━━━━━━━━━━━━━━━━━━\u001b[0m\u001b[37m\u001b[0m \u001b[1m24s\u001b[0m 97ms/step - accuracy: 0.8399 - loss: 0.3702 - val_accuracy: 0.8347 - val_loss: 0.3783 - learning_rate: 1.0000e-04\n",
      "Epoch 6/50\n",
      "\u001b[1m251/251\u001b[0m \u001b[32m━━━━━━━━━━━━━━━━━━━━\u001b[0m\u001b[37m\u001b[0m \u001b[1m24s\u001b[0m 97ms/step - accuracy: 0.8318 - loss: 0.3669 - val_accuracy: 0.8372 - val_loss: 0.3727 - learning_rate: 1.0000e-04\n",
      "Epoch 7/50\n",
      "\u001b[1m251/251\u001b[0m \u001b[32m━━━━━━━━━━━━━━━━━━━━\u001b[0m\u001b[37m\u001b[0m \u001b[1m24s\u001b[0m 97ms/step - accuracy: 0.8402 - loss: 0.3574 - val_accuracy: 0.8372 - val_loss: 0.3696 - learning_rate: 1.0000e-04\n",
      "Epoch 8/50\n",
      "\u001b[1m251/251\u001b[0m \u001b[32m━━━━━━━━━━━━━━━━━━━━\u001b[0m\u001b[37m\u001b[0m \u001b[1m24s\u001b[0m 95ms/step - accuracy: 0.8456 - loss: 0.3450 - val_accuracy: 0.8422 - val_loss: 0.3658 - learning_rate: 1.0000e-04\n",
      "Epoch 9/50\n",
      "\u001b[1m251/251\u001b[0m \u001b[32m━━━━━━━━━━━━━━━━━━━━\u001b[0m\u001b[37m\u001b[0m \u001b[1m25s\u001b[0m 99ms/step - accuracy: 0.8482 - loss: 0.3324 - val_accuracy: 0.8427 - val_loss: 0.3634 - learning_rate: 1.0000e-04\n",
      "Epoch 10/50\n",
      "\u001b[1m251/251\u001b[0m \u001b[32m━━━━━━━━━━━━━━━━━━━━\u001b[0m\u001b[37m\u001b[0m \u001b[1m24s\u001b[0m 97ms/step - accuracy: 0.8511 - loss: 0.3229 - val_accuracy: 0.8417 - val_loss: 0.3650 - learning_rate: 1.0000e-04\n",
      "Epoch 11/50\n",
      "\u001b[1m251/251\u001b[0m \u001b[32m━━━━━━━━━━━━━━━━━━━━\u001b[0m\u001b[37m\u001b[0m \u001b[1m24s\u001b[0m 94ms/step - accuracy: 0.8609 - loss: 0.3209 - val_accuracy: 0.8387 - val_loss: 0.3664 - learning_rate: 1.0000e-04\n",
      "Epoch 12/50\n",
      "\u001b[1m251/251\u001b[0m \u001b[32m━━━━━━━━━━━━━━━━━━━━\u001b[0m\u001b[37m\u001b[0m \u001b[1m24s\u001b[0m 96ms/step - accuracy: 0.8669 - loss: 0.3117 - val_accuracy: 0.8457 - val_loss: 0.3606 - learning_rate: 1.0000e-04\n",
      "Epoch 13/50\n",
      "\u001b[1m251/251\u001b[0m \u001b[32m━━━━━━━━━━━━━━━━━━━━\u001b[0m\u001b[37m\u001b[0m \u001b[1m23s\u001b[0m 93ms/step - accuracy: 0.8615 - loss: 0.3126 - val_accuracy: 0.8452 - val_loss: 0.3578 - learning_rate: 1.0000e-04\n",
      "Epoch 14/50\n",
      "\u001b[1m251/251\u001b[0m \u001b[32m━━━━━━━━━━━━━━━━━━━━\u001b[0m\u001b[37m\u001b[0m \u001b[1m24s\u001b[0m 95ms/step - accuracy: 0.8681 - loss: 0.3016 - val_accuracy: 0.8447 - val_loss: 0.3627 - learning_rate: 1.0000e-04\n",
      "Epoch 15/50\n",
      "\u001b[1m251/251\u001b[0m \u001b[32m━━━━━━━━━━━━━━━━━━━━\u001b[0m\u001b[37m\u001b[0m \u001b[1m23s\u001b[0m 93ms/step - accuracy: 0.8723 - loss: 0.2997 - val_accuracy: 0.8467 - val_loss: 0.3577 - learning_rate: 1.0000e-04\n",
      "Epoch 16/50\n",
      "\u001b[1m251/251\u001b[0m \u001b[32m━━━━━━━━━━━━━━━━━━━━\u001b[0m\u001b[37m\u001b[0m \u001b[1m23s\u001b[0m 93ms/step - accuracy: 0.8761 - loss: 0.2866 - val_accuracy: 0.8462 - val_loss: 0.3560 - learning_rate: 1.0000e-04\n",
      "Epoch 17/50\n",
      "\u001b[1m251/251\u001b[0m \u001b[32m━━━━━━━━━━━━━━━━━━━━\u001b[0m\u001b[37m\u001b[0m \u001b[1m24s\u001b[0m 95ms/step - accuracy: 0.8797 - loss: 0.2752 - val_accuracy: 0.8447 - val_loss: 0.3525 - learning_rate: 1.0000e-04\n",
      "Epoch 18/50\n",
      "\u001b[1m251/251\u001b[0m \u001b[32m━━━━━━━━━━━━━━━━━━━━\u001b[0m\u001b[37m\u001b[0m \u001b[1m24s\u001b[0m 96ms/step - accuracy: 0.8802 - loss: 0.2811 - val_accuracy: 0.8447 - val_loss: 0.3552 - learning_rate: 1.0000e-04\n",
      "Epoch 19/50\n",
      "\u001b[1m251/251\u001b[0m \u001b[32m━━━━━━━━━━━━━━━━━━━━\u001b[0m\u001b[37m\u001b[0m \u001b[1m24s\u001b[0m 96ms/step - accuracy: 0.8819 - loss: 0.2751 - val_accuracy: 0.8457 - val_loss: 0.3541 - learning_rate: 1.0000e-04\n",
      "Epoch 20/50\n",
      "\u001b[1m250/251\u001b[0m \u001b[32m━━━━━━━━━━━━━━━━━━━\u001b[0m\u001b[37m━\u001b[0m \u001b[1m0s\u001b[0m 76ms/step - accuracy: 0.8796 - loss: 0.2710\n",
      "Epoch 20: ReduceLROnPlateau reducing learning rate to 4.999999873689376e-05.\n",
      "\u001b[1m251/251\u001b[0m \u001b[32m━━━━━━━━━━━━━━━━━━━━\u001b[0m\u001b[37m\u001b[0m \u001b[1m24s\u001b[0m 94ms/step - accuracy: 0.8797 - loss: 0.2710 - val_accuracy: 0.8447 - val_loss: 0.3548 - learning_rate: 1.0000e-04\n",
      "Epoch 21/50\n",
      "\u001b[1m251/251\u001b[0m \u001b[32m━━━━━━━━━━━━━━━━━━━━\u001b[0m\u001b[37m\u001b[0m \u001b[1m24s\u001b[0m 97ms/step - accuracy: 0.8976 - loss: 0.2565 - val_accuracy: 0.8467 - val_loss: 0.3582 - learning_rate: 5.0000e-05\n",
      "Epoch 22/50\n",
      "\u001b[1m251/251\u001b[0m \u001b[32m━━━━━━━━━━━━━━━━━━━━\u001b[0m\u001b[37m\u001b[0m \u001b[1m24s\u001b[0m 97ms/step - accuracy: 0.8960 - loss: 0.2617 - val_accuracy: 0.8482 - val_loss: 0.3566 - learning_rate: 5.0000e-05\n"
     ]
    },
    {
     "name": "stderr",
     "output_type": "stream",
     "text": [
      "WARNING:absl:You are saving your model as an HDF5 file via `model.save()` or `keras.saving.save_model(model)`. This file format is considered legacy. We recommend using instead the native Keras format, e.g. `model.save('my_model.keras')` or `keras.saving.save_model(model, 'my_model.keras')`. \n"
     ]
    },
    {
     "data": {
      "image/png": "[encoded data removed]",
      "text/plain": [
       "<Figure size 640x480 with 1 Axes>"
      ]
     },
     "metadata": {},
     "output_type": "display_data"
    }
   ],
   "source": [
    "import os\n",
    "import numpy as np\n",
    "import pandas as pd\n",
    "import tensorflow as tf\n",
    "from tensorflow.keras.preprocessing.image import load_img, img_to_array\n",
    "from tensorflow.keras.applications import MobileNetV2\n",
    "from tensorflow.keras.models import Model\n",
    "from tensorflow.keras.layers import Dense, Dropout, GlobalAveragePooling2D, Input, Concatenate\n",
    "from tensorflow.keras.optimizers import Adam\n",
    "from tensorflow.keras.callbacks import EarlyStopping, ReduceLROnPlateau\n",
    "from sklearn.model_selection import train_test_split\n",
    "import matplotlib.pyplot as plt\n",
    "\n",
    "# 📂 **Dataset Paths**\n",
    "IMAGE_FOLDERS = [\n",
    "    \"D:\\ML model\\HAM10000_images_part_1\",\n",
    "    \"D:\\ML model\\HAM10000_images_part_2\",\n",
    "    \"D:\\ML model\\HAM10000_segmentations_lesion_tschandl\"\n",
    "]\n",
    "CSV_FILE = \"D:\\ML model\\HAM10000_metadata\"\n",
    "\n",
    "# 📌 **Load Labels**\n",
    "df = pd.read_csv(CSV_FILE)\n",
    "benign_classes = [\"bkl\", \"df\", \"nv\", \"vasc\"]\n",
    "df[\"label\"] = df[\"dx\"].apply(lambda x: 0 if x in benign_classes else 1)\n",
    "\n",
    "# 🔄 **Preprocess Age, Sex, and Localization**\n",
    "df[\"age\"].fillna(df[\"age\"].median(), inplace=True)\n",
    "df[\"sex\"] = df[\"sex\"].map({\"male\": 0, \"female\": 1})\n",
    "df[\"localization\"] = df[\"localization\"].astype(\"category\").cat.codes  # Convert categorical to numeric\n",
    "\n",
    "# 📌 **Preprocess Images & Metadata**\n",
    "image_size = (128, 128)\n",
    "X_images, X_age, X_sex, X_loc, y = [], [], [], [], []\n",
    "\n",
    "for folder in IMAGE_FOLDERS:\n",
    "    print(f\"📂 Processing folder {folder}...\")\n",
    "    if not os.path.exists(folder):\n",
    "        print(f\"⚠️ Warning: Folder {folder} not found. Skipping...\")\n",
    "        continue\n",
    "\n",
    "    for filename in os.listdir(folder):\n",
    "        img_path = os.path.join(folder, filename)\n",
    "        if filename.lower().endswith((\".jpg\", \".jpeg\", \".png\")):\n",
    "            img_id = os.path.splitext(filename)[0]  # Remove extension\n",
    "            if img_id in df[\"image_id\"].values:\n",
    "                try:\n",
    "                    row = df[df[\"image_id\"] == img_id].iloc[0]\n",
    "                    img = load_img(img_path, target_size=image_size)\n",
    "                    img_array = img_to_array(img) / 255.0  # Normalize\n",
    "\n",
    "                    X_images.append(img_array)\n",
    "                    X_age.append(row[\"age\"])\n",
    "                    X_sex.append(row[\"sex\"])\n",
    "                    X_loc.append(row[\"localization\"])\n",
    "                    y.append(row[\"label\"])\n",
    "\n",
    "                except Exception as e:\n",
    "                    print(f\"❌ Error loading {img_path}: {e}\")\n",
    "\n",
    "# 📌 **Convert to NumPy Arrays**\n",
    "X_images = np.array(X_images)\n",
    "X_age = np.array(X_age).reshape(-1, 1)  # Keep shape (N,1)\n",
    "X_sex = np.array(X_sex).reshape(-1, 1)  \n",
    "X_loc = np.array(X_loc).reshape(-1, 1)\n",
    "y = np.array(y)\n",
    "\n",
    "print(f\"✅ Total images loaded: {len(X_images)}\")\n",
    "print(f\"✅ Total metadata entries loaded: {len(X_age)}\")\n",
    "\n",
    "# 📌 **Train-Test Split**\n",
    "(X_train_images, X_val_images, \n",
    " X_train_age, X_val_age, \n",
    " X_train_sex, X_val_sex, \n",
    " X_train_loc, X_val_loc, \n",
    " y_train, y_val) = train_test_split(\n",
    "    X_images, X_age, X_sex, X_loc, y, test_size=0.2, random_state=42, stratify=y\n",
    ")\n",
    "\n",
    "# 📌 **Create TensorFlow Dataset**\n",
    "train_dataset = tf.data.Dataset.from_tensor_slices(\n",
    "    ((X_train_images, X_train_age, X_train_sex, X_train_loc), y_train)\n",
    ").shuffle(1000).batch(32).prefetch(tf.data.experimental.AUTOTUNE)\n",
    "\n",
    "val_dataset = tf.data.Dataset.from_tensor_slices(\n",
    "    ((X_val_images, X_val_age, X_val_sex, X_val_loc), y_val)\n",
    ").batch(32).prefetch(tf.data.experimental.AUTOTUNE)\n",
    "\n",
    "# 🔥 **Build Multi-Input Model**\n",
    "image_input = Input(shape=(128, 128, 3), name=\"image_input\")\n",
    "age_input = Input(shape=(1,), name=\"age_input\")\n",
    "sex_input = Input(shape=(1,), name=\"sex_input\")\n",
    "loc_input = Input(shape=(1,), name=\"loc_input\")\n",
    "\n",
    "# 📌 **Feature Extraction using MobileNetV2**\n",
    "base_model = MobileNetV2(weights=\"imagenet\", include_top=False, input_tensor=image_input)\n",
    "base_model.trainable = False  # Freeze pre-trained layers\n",
    "\n",
    "x = GlobalAveragePooling2D()(base_model.output)\n",
    "x = Dense(128, activation='relu')(x)\n",
    "x = Dropout(0.5)(x)\n",
    "\n",
    "# 📌 **Concatenate Image & Metadata Features**\n",
    "metadata = Concatenate()([age_input, sex_input, loc_input])\n",
    "metadata_dense = Dense(16, activation='relu')(metadata)\n",
    "\n",
    "merged = Concatenate()([x, metadata_dense])\n",
    "output_layer = Dense(1, activation='sigmoid')(merged)  # Binary classification\n",
    "\n",
    "# ✅ **Compile Model**\n",
    "model = Model(inputs=[image_input, age_input, sex_input, loc_input], outputs=output_layer)\n",
    "model.compile(optimizer=Adam(learning_rate=0.0001),  \n",
    "              loss=\"binary_crossentropy\", \n",
    "              metrics=[\"accuracy\"])\n",
    "\n",
    "# 🚀 **Define Callbacks**\n",
    "lr_scheduler = ReduceLROnPlateau(monitor='val_loss', factor=0.5, patience=3, verbose=1)\n",
    "early_stopping = EarlyStopping(monitor=\"val_loss\", patience=5, restore_best_weights=True)\n",
    "\n",
    "# 🚀 **Train Model**\n",
    "history = model.fit(\n",
    "    train_dataset,\n",
    "    validation_data=val_dataset,\n",
    "    epochs=50,\n",
    "    callbacks=[lr_scheduler, early_stopping]\n",
    ")\n",
    "\n",
    "# 💾 **Save Model**\n",
    "MODEL_PATH = r\"D:/ML model/skin_cancer_mobilenetv2_optimized.h5\"\n",
    "model.save(MODEL_PATH)\n",
    "\n",
    "# 📈 **Plot Training History**\n",
    "plt.plot(history.history['accuracy'], label='Train Accuracy')\n",
    "plt.plot(history.history['val_accuracy'], label='Validation Accuracy')\n",
    "plt.legend()\n",
    "plt.show()\n"
   ]
  }
 ],
 "metadata": {
  "kernelspec": {
   "display_name": "Python 3",
   "language": "python",
   "name": "python3"
  },
  "language_info": {
   "codemirror_mode": {
    "name": "ipython",
    "version": 3
   },
   "file_extension": ".py",
   "mimetype": "text/x-python",
   "name": "python",
   "nbconvert_exporter": "python",
   "pygments_lexer": "ipython3",
   "version": "3.12.9"
  }
 },
 "nbformat": 4,
 "nbformat_minor": 2
}
